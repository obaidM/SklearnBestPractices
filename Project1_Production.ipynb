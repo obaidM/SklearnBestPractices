{
 "cells": [
  {
   "cell_type": "code",
   "execution_count": 1,
   "metadata": {},
   "outputs": [
    {
     "name": "stderr",
     "output_type": "stream",
     "text": [
      "C:\\Users\\obaid\\Anaconda3\\lib\\site-packages\\sklearn\\externals\\joblib\\__init__.py:15: DeprecationWarning: sklearn.externals.joblib is deprecated in 0.21 and will be removed in 0.23. Please import this functionality directly from joblib, which can be installed with: pip install joblib. If this warning is raised when loading pickled models, you may need to re-serialize those models with scikit-learn 0.21+.\n",
      "  warnings.warn(msg, category=DeprecationWarning)\n"
     ]
    }
   ],
   "source": [
    "import pandas as pd\n",
    "import numpy as np\n",
    "#import matplotlib.pyplot as plt\n",
    "\n",
    "## Sklearn \n",
    "#from sklearn.model_selection import train_test_split , GridSearchCV\n",
    "#from sklearn.ensemble import GradientBoostingClassifier\n",
    "#from sklearn.metrics import roc_auc_score\n",
    "from sklearn.pipeline import Pipeline\n",
    "\n",
    "###### feature engineering packages\n",
    "from feature_engine import missing_data_imputers as mdi\n",
    "#from feature_engine import discretisers as dsc\n",
    "#from feature_engine import categorical_encoders as ce\n",
    "#from feature_engine.categorical_encoders import WoERatioCategoricalEncoder\n",
    "#from feature_engine.discretisers import DecisionTreeDiscretiser\n",
    "from feature_engine.outlier_removers import Winsorizer\n",
    "\n",
    "######## Feature selection packages \n",
    "\n",
    "#from sklearn.feature_selection import VarianceThreshold\n",
    "#from sklearn.feature_selection import SelectFromModel\n",
    "\n",
    "#from sklearn.ensemble import RandomForestClassifier, RandomForestRegressor\n",
    "\n",
    "\n",
    "#### model selection \n",
    "#from xgboost import XGBClassifier\n",
    "from catboost import CatBoostClassifier\n",
    "\n",
    "from sklearn.externals import joblib"
   ]
  },
  {
   "cell_type": "code",
   "execution_count": 2,
   "metadata": {},
   "outputs": [],
   "source": [
    "data = pd.read_csv('exercise_03_test.csv' )\n",
    "\n",
    "selected_feat = ['x1', 'x2', 'x3', 'x5', 'x10', 'x21', 'x22', 'x37', 'x40', 'x41', 'x44',\n",
    "       'x50', 'x51', 'x56', 'x58', 'x63', 'x66', 'x69', 'x70', 'x72', 'x73',\n",
    "       'x75', 'x78', 'x83', 'x85', 'x96', 'x97', 'x99']\n",
    "\n",
    "data = data[selected_feat]"
   ]
  },
  {
   "cell_type": "code",
   "execution_count": 3,
   "metadata": {},
   "outputs": [],
   "source": [
    "data['x41'] = data['x41'].astype(str)\n",
    "data['x41'] = data['x41'].apply(lambda x: x.strip('$'))\n",
    "data['x41']= data['x41'].astype(float)"
   ]
  },
  {
   "cell_type": "code",
   "execution_count": 4,
   "metadata": {},
   "outputs": [
    {
     "name": "stdout",
     "output_type": "stream",
     "text": [
      "there are 0 discrete features\n",
      "there are 28 continous or numeric features\n",
      "there are 0 categorical features\n"
     ]
    }
   ],
   "source": [
    "##### capture the type of each \n",
    "### numeric feature with less than 5 unique values is probably discrete 9 integers and not numeric\n",
    "discrete= [ var for var in data.columns   if data[var].dtype != 'O' and var!='y' and data[var].nunique() < 5 ]\n",
    "contin= [ var for var in data.columns     if data[var].dtype != 'O' and var!='y' and var not in discrete]\n",
    "categorical = [var for var in data.columns if data[var].dtype =='O']\n",
    "\n",
    "\n",
    "print(\"there are {} discrete features\".format(len(discrete)))\n",
    "print(\"there are {} continous or numeric features\".format(len(contin)))\n",
    "print(\"there are {} categorical features\".format(len(categorical)))"
   ]
  },
  {
   "cell_type": "code",
   "execution_count": 5,
   "metadata": {},
   "outputs": [
    {
     "name": "stdout",
     "output_type": "stream",
     "text": [
      "[0.03970493 0.09180113 0.07796495 ... 0.05990475 0.81117143 0.02708609]\n"
     ]
    }
   ],
   "source": [
    "loaded_seq = joblib.load('obieSeq.pkl')\n",
    "result = loaded_seq.predict_proba(data)[:,1]\n",
    "print(result)"
   ]
  },
  {
   "cell_type": "code",
   "execution_count": 6,
   "metadata": {},
   "outputs": [
    {
     "data": {
      "text/plain": [
       "(10000,)"
      ]
     },
     "execution_count": 6,
     "metadata": {},
     "output_type": "execute_result"
    }
   ],
   "source": [
    "result.shape"
   ]
  },
  {
   "cell_type": "code",
   "execution_count": 7,
   "metadata": {},
   "outputs": [
    {
     "data": {
      "text/plain": [
       "<matplotlib.axes._subplots.AxesSubplot at 0x1a9b8a8e940>"
      ]
     },
     "execution_count": 7,
     "metadata": {},
     "output_type": "execute_result"
    }
   ],
   "source": [
    " import seaborn as sns\n",
    " sns.set(style=\"whitegrid\")\n",
    "sns.boxplot(x= result)"
   ]
  },
  {
   "cell_type": "code",
   "execution_count": 8,
   "metadata": {},
   "outputs": [
    {
     "data": {
      "text/plain": [
       "<matplotlib.axes._subplots.AxesSubplot at 0x1a9bab51898>"
      ]
     },
     "execution_count": 8,
     "metadata": {},
     "output_type": "execute_result"
    },
    {
     "data": {
      "image/png": "[encoded data removed]",
      "text/plain": [
       "<Figure size 432x288 with 1 Axes>"
      ]
     },
     "metadata": {},
     "output_type": "display_data"
    }
   ],
   "source": [
    "X_test_preds = joblib.load('X_test_preds.pkl')\n",
    "sns.set(style=\"whitegrid\")\n",
    "sns.boxplot(x= X_test_preds)"
   ]
  },
  {
   "cell_type": "code",
   "execution_count": null,
   "metadata": {},
   "outputs": [],
   "source": []
  }
 ],
 "metadata": {
  "kernelspec": {
   "display_name": "Python 3",
   "language": "python",
   "name": "python3"
  },
  "language_info": {
   "codemirror_mode": {
    "name": "ipython",
    "version": 3
   },
   "file_extension": ".py",
   "mimetype": "text/x-python",
   "name": "python",
   "nbconvert_exporter": "python",
   "pygments_lexer": "ipython3",
   "version": "3.6.8"
  }
 },
 "nbformat": 4,
 "nbformat_minor": 2
}
