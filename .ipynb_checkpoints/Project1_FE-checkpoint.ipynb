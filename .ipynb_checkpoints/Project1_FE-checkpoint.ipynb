{
 "cells": [
  {
   "cell_type": "markdown",
   "metadata": {},
   "source": [
    "# Best practices for the project"
   ]
  },
  {
   "cell_type": "markdown",
   "metadata": {},
   "source": [
    "# ---------------- Feature engineering-------------------------###"
   ]
  },
  {
   "cell_type": "code",
   "execution_count": 134,
   "metadata": {},
   "outputs": [],
   "source": [
    "import pandas as pd\n",
    "import numpy as np\n",
    "import matplotlib.pyplot as plt\n",
    "\n",
    "## Sklearn \n",
    "from sklearn.model_selection import train_test_split , GridSearchCV\n",
    "from sklearn.ensemble import GradientBoostingClassifier\n",
    "from sklearn.metrics import roc_auc_score\n",
    "from sklearn.pipeline import Pipeline\n",
    "\n",
    "###### feature engineering packages\n",
    "from feature_engine import missing_data_imputers as mdi\n",
    "from feature_engine import discretisers as dsc\n",
    "from feature_engine import categorical_encoders as ce\n",
    "from feature_engine.categorical_encoders import WoERatioCategoricalEncoder\n",
    "from feature_engine.discretisers import DecisionTreeDiscretiser\n",
    "from feature_engine.outlier_removers import Winsorizer\n",
    "\n",
    "######## Feature selection packages \n",
    "from sklearn.feature_selection import VarianceThreshold"
   ]
  },
  {
   "cell_type": "code",
   "execution_count": 110,
   "metadata": {},
   "outputs": [],
   "source": [
    "data = pd.read_csv('exercise_03_train.csv' )"
   ]
  },
  {
   "cell_type": "code",
   "execution_count": 111,
   "metadata": {},
   "outputs": [
    {
     "data": {
      "text/plain": [
       "(40000, 101)"
      ]
     },
     "execution_count": 111,
     "metadata": {},
     "output_type": "execute_result"
    }
   ],
   "source": [
    "data.shape"
   ]
  },
  {
   "cell_type": "code",
   "execution_count": 112,
   "metadata": {},
   "outputs": [
    {
     "data": {
      "text/html": [
       "<div>\n",
       "<style scoped>\n",
       "    .dataframe tbody tr th:only-of-type {\n",
       "        vertical-align: middle;\n",
       "    }\n",
       "\n",
       "    .dataframe tbody tr th {\n",
       "        vertical-align: top;\n",
       "    }\n",
       "\n",
       "    .dataframe thead th {\n",
       "        text-align: right;\n",
       "    }\n",
       "</style>\n",
       "<table border=\"1\" class=\"dataframe\">\n",
       "  <thead>\n",
       "    <tr style=\"text-align: right;\">\n",
       "      <th></th>\n",
       "      <th>x0</th>\n",
       "      <th>x1</th>\n",
       "      <th>x2</th>\n",
       "      <th>x3</th>\n",
       "      <th>x4</th>\n",
       "      <th>x5</th>\n",
       "      <th>x6</th>\n",
       "      <th>x7</th>\n",
       "      <th>x8</th>\n",
       "      <th>x9</th>\n",
       "      <th>...</th>\n",
       "      <th>x91</th>\n",
       "      <th>x92</th>\n",
       "      <th>x93</th>\n",
       "      <th>x94</th>\n",
       "      <th>x95</th>\n",
       "      <th>x96</th>\n",
       "      <th>x97</th>\n",
       "      <th>x98</th>\n",
       "      <th>x99</th>\n",
       "      <th>y</th>\n",
       "    </tr>\n",
       "  </thead>\n",
       "  <tbody>\n",
       "    <tr>\n",
       "      <td>0</td>\n",
       "      <td>83.812330</td>\n",
       "      <td>-0.122672</td>\n",
       "      <td>65.391785</td>\n",
       "      <td>6.323478</td>\n",
       "      <td>-18.511031</td>\n",
       "      <td>2.122648</td>\n",
       "      <td>0.319472</td>\n",
       "      <td>7.650422</td>\n",
       "      <td>7.713315</td>\n",
       "      <td>2.789856</td>\n",
       "      <td>...</td>\n",
       "      <td>5.482352</td>\n",
       "      <td>12.211997</td>\n",
       "      <td>asia</td>\n",
       "      <td>-3.201565</td>\n",
       "      <td>-9.837196</td>\n",
       "      <td>-21.092011</td>\n",
       "      <td>4.671140</td>\n",
       "      <td>0.588994</td>\n",
       "      <td>-11.417083</td>\n",
       "      <td>0</td>\n",
       "    </tr>\n",
       "    <tr>\n",
       "      <td>1</td>\n",
       "      <td>-0.445312</td>\n",
       "      <td>-0.436077</td>\n",
       "      <td>12.981759</td>\n",
       "      <td>30.716674</td>\n",
       "      <td>-34.981679</td>\n",
       "      <td>-16.712862</td>\n",
       "      <td>0.530105</td>\n",
       "      <td>8.740222</td>\n",
       "      <td>56.044533</td>\n",
       "      <td>0.075118</td>\n",
       "      <td>...</td>\n",
       "      <td>-6.083035</td>\n",
       "      <td>-5.098374</td>\n",
       "      <td>asia</td>\n",
       "      <td>5.433036</td>\n",
       "      <td>91.724841</td>\n",
       "      <td>4.305371</td>\n",
       "      <td>4.329130</td>\n",
       "      <td>0.371513</td>\n",
       "      <td>8.474528</td>\n",
       "      <td>0</td>\n",
       "    </tr>\n",
       "    <tr>\n",
       "      <td>2</td>\n",
       "      <td>82.927148</td>\n",
       "      <td>0.075277</td>\n",
       "      <td>-29.096012</td>\n",
       "      <td>-20.176841</td>\n",
       "      <td>10.109713</td>\n",
       "      <td>-45.994005</td>\n",
       "      <td>0.618132</td>\n",
       "      <td>7.757838</td>\n",
       "      <td>-69.749060</td>\n",
       "      <td>-1.561335</td>\n",
       "      <td>...</td>\n",
       "      <td>0.200787</td>\n",
       "      <td>-7.174907</td>\n",
       "      <td>asia</td>\n",
       "      <td>2.595005</td>\n",
       "      <td>-14.630603</td>\n",
       "      <td>-3.743052</td>\n",
       "      <td>-14.820376</td>\n",
       "      <td>-2.366675</td>\n",
       "      <td>2.613091</td>\n",
       "      <td>0</td>\n",
       "    </tr>\n",
       "  </tbody>\n",
       "</table>\n",
       "<p>3 rows × 101 columns</p>\n",
       "</div>"
      ],
      "text/plain": [
       "          x0        x1         x2         x3         x4         x5        x6  \\\n",
       "0  83.812330 -0.122672  65.391785   6.323478 -18.511031   2.122648  0.319472   \n",
       "1  -0.445312 -0.436077  12.981759  30.716674 -34.981679 -16.712862  0.530105   \n",
       "2  82.927148  0.075277 -29.096012 -20.176841  10.109713 -45.994005  0.618132   \n",
       "\n",
       "         x7         x8        x9  ...       x91        x92   x93       x94  \\\n",
       "0  7.650422   7.713315  2.789856  ...  5.482352  12.211997  asia -3.201565   \n",
       "1  8.740222  56.044533  0.075118  ... -6.083035  -5.098374  asia  5.433036   \n",
       "2  7.757838 -69.749060 -1.561335  ...  0.200787  -7.174907  asia  2.595005   \n",
       "\n",
       "         x95        x96        x97       x98        x99  y  \n",
       "0  -9.837196 -21.092011   4.671140  0.588994 -11.417083  0  \n",
       "1  91.724841   4.305371   4.329130  0.371513   8.474528  0  \n",
       "2 -14.630603  -3.743052 -14.820376 -2.366675   2.613091  0  \n",
       "\n",
       "[3 rows x 101 columns]"
      ]
     },
     "execution_count": 112,
     "metadata": {},
     "output_type": "execute_result"
    }
   ],
   "source": [
    "data.head(3)"
   ]
  },
  {
   "cell_type": "code",
   "execution_count": 113,
   "metadata": {},
   "outputs": [
    {
     "name": "stdout",
     "output_type": "stream",
     "text": [
      "there are 0 discrete features\n",
      "there are 94 continous or numeric features\n",
      "there are 6 categorical features\n"
     ]
    }
   ],
   "source": [
    "##### capture the type of each \n",
    "### numeric feature with less than 5 unique values is probably discrete 9 integers and not numeric\n",
    "discrete= [ var for var in data.columns   if data[var].dtype != 'O' and var!='y' and data[var].nunique() < 5 ]\n",
    "contin= [ var for var in data.columns     if data[var].dtype != 'O' and var!='y' and var not in discrete]\n",
    "categorical = [var for var in data.columns if data[var].dtype =='O']\n",
    "\n",
    "\n",
    "print(\"there are {} discrete features\".format(len(discrete)))\n",
    "print(\"there are {} continous or numeric features\".format(len(contin)))\n",
    "print(\"there are {} categorical features\".format(len(categorical)))"
   ]
  },
  {
   "cell_type": "code",
   "execution_count": 114,
   "metadata": {},
   "outputs": [
    {
     "data": {
      "text/plain": [
       "['x34', 'x35', 'x41', 'x45', 'x68', 'x93']"
      ]
     },
     "execution_count": 114,
     "metadata": {},
     "output_type": "execute_result"
    }
   ],
   "source": [
    "categorical"
   ]
  },
  {
   "cell_type": "code",
   "execution_count": 115,
   "metadata": {},
   "outputs": [
    {
     "data": {
      "text/plain": [
       "x34       10\n",
       "x35        8\n",
       "x41    37824\n",
       "x45       10\n",
       "x68       12\n",
       "x93        3\n",
       "dtype: int64"
      ]
     },
     "execution_count": 115,
     "metadata": {},
     "output_type": "execute_result"
    }
   ],
   "source": [
    "data[categorical].nunique()"
   ]
  },
  {
   "cell_type": "code",
   "execution_count": 116,
   "metadata": {},
   "outputs": [
    {
     "name": "stdout",
     "output_type": "stream",
     "text": [
      "['x34', 'x35', 'x45', 'x68', 'x93']\n"
     ]
    }
   ],
   "source": [
    "### drop 'X41' due to extreme high cardinality as it is some sort of primary key\n",
    "\n",
    "data.drop('x41',axis=1, inplace=True)\n",
    "categorical = [var for var in data.columns if data[var].dtype =='O']\n",
    "print(categorical)"
   ]
  },
  {
   "cell_type": "code",
   "execution_count": 117,
   "metadata": {},
   "outputs": [
    {
     "name": "stdout",
     "output_type": "stream",
     "text": [
      "x34     ['Honda' 'volkswagon' 'ford' 'Toyota' 'bmw' 'chrystler' 'tesla' 'nissan'\n",
      " nan 'mercades' 'chevrolet']\n",
      "x35     ['wed' 'wednesday' 'thurday' 'thur' 'friday' 'tuesday' 'monday' 'fri' nan]\n",
      "x45     ['0.0%' '-0.0%' '-0.02%' '0.01%' '0.02%' '0.03%' '-0.01%' '-0.03%'\n",
      " '-0.04%' '0.04%' nan]\n",
      "x68     ['July' 'Jun' 'Aug' 'sept.' 'May' 'Apr' 'Oct' 'Mar' 'Dev' 'Nov' nan 'Feb'\n",
      " 'January']\n",
      "x93     ['asia' 'america' 'euorpe' nan]\n"
     ]
    }
   ],
   "source": [
    "for ft in categorical:\n",
    "    print( ft ,\"   \", data[ft].unique() )"
   ]
  },
  {
   "cell_type": "code",
   "execution_count": 118,
   "metadata": {},
   "outputs": [],
   "source": [
    "\n",
    "data['x35'] = data['x35'].replace('wed','wednesday' )\n",
    "data['x35'] = data['x35'].replace('thur','thursday')\n",
    "data['x35'] = data['x35'].replace('thurday','thursday' )\n",
    "data['x35'] = data['x35'].replace('fri','friday')\n",
    "data['x68'] = data['x68'].replace('Dev','Dec')\n",
    "data['x93'] = data['x93'].replace('euorpe','europe')"
   ]
  },
  {
   "cell_type": "code",
   "execution_count": 119,
   "metadata": {},
   "outputs": [
    {
     "name": "stdout",
     "output_type": "stream",
     "text": [
      "x34     ['Honda' 'volkswagon' 'ford' 'Toyota' 'bmw' 'chrystler' 'tesla' 'nissan'\n",
      " nan 'mercades' 'chevrolet']\n",
      "x35     ['wednesday' 'thursday' 'friday' 'tuesday' 'monday' nan]\n",
      "x45     ['0.0%' '-0.0%' '-0.02%' '0.01%' '0.02%' '0.03%' '-0.01%' '-0.03%'\n",
      " '-0.04%' '0.04%' nan]\n",
      "x68     ['July' 'Jun' 'Aug' 'sept.' 'May' 'Apr' 'Oct' 'Mar' 'Dec' 'Nov' nan 'Feb'\n",
      " 'January']\n",
      "x93     ['asia' 'america' 'europe' nan]\n"
     ]
    }
   ],
   "source": [
    "for ft in categorical:\n",
    "    print( ft ,\"   \", data[ft].unique() )"
   ]
  },
  {
   "cell_type": "code",
   "execution_count": 120,
   "metadata": {},
   "outputs": [],
   "source": [
    "#### split the data \n",
    "X_train, X_test, y_train, y_test = train_test_split(\n",
    "data.drop('y',axis=1), ### predictors \n",
    "data['y'] ,      ### target\n",
    "test_size=0.1,\n",
    "    random_state =0\n",
    ")"
   ]
  },
  {
   "cell_type": "code",
   "execution_count": 121,
   "metadata": {},
   "outputs": [
    {
     "name": "stdout",
     "output_type": "stream",
     "text": [
      "x34     ['bmw' 'Honda' 'Toyota' 'tesla' 'chrystler' 'volkswagon' 'nissan' 'ford'\n",
      " 'mercades' 'chevrolet' nan]\n",
      "x35     ['thursday' 'wednesday' 'friday' 'tuesday' 'monday' nan]\n",
      "x45     ['0.01%' '-0.01%' '0.0%' '-0.0%' '-0.02%' '0.03%' '0.02%' '-0.03%' nan\n",
      " '-0.04%' '0.04%']\n",
      "x68     ['May' 'Apr' 'July' 'sept.' nan 'Aug' 'Jun' 'Dec' 'Oct' 'Nov' 'Mar' 'Feb'\n",
      " 'January']\n",
      "x93     ['asia' 'america' 'europe' nan]\n"
     ]
    }
   ],
   "source": [
    "for ft in categorical:\n",
    "    print( ft ,\"   \", X_train[ft].unique() )"
   ]
  },
  {
   "cell_type": "code",
   "execution_count": 122,
   "metadata": {},
   "outputs": [
    {
     "data": {
      "text/plain": [
       "x85    0.000375\n",
       "x18    0.000350\n",
       "x65    0.000350\n",
       "x13    0.000350\n",
       "x96    0.000325\n",
       "         ...   \n",
       "x88    0.000075\n",
       "x43    0.000050\n",
       "x83    0.000050\n",
       "x91    0.000050\n",
       "y      0.000000\n",
       "Length: 100, dtype: float64"
      ]
     },
     "execution_count": 122,
     "metadata": {},
     "output_type": "execute_result"
    }
   ],
   "source": [
    "data.isnull().mean().sort_values(ascending= False)"
   ]
  },
  {
   "cell_type": "code",
   "execution_count": 123,
   "metadata": {},
   "outputs": [
    {
     "name": "stdout",
     "output_type": "stream",
     "text": [
      "(40000, 100)\n"
     ]
    },
    {
     "data": {
      "text/plain": [
       "x93\n",
       "america    0.210627\n",
       "asia       0.201710\n",
       "europe     0.196078\n",
       "Name: y, dtype: float64"
      ]
     },
     "execution_count": 123,
     "metadata": {},
     "output_type": "execute_result"
    }
   ],
   "source": [
    "print(data.shape)\n",
    "\n",
    "prob_df = data.groupby(['x93'])['y'].mean()\n",
    "prob_df"
   ]
  },
  {
   "cell_type": "code",
   "execution_count": 124,
   "metadata": {},
   "outputs": [],
   "source": [
    "#### load the models that you want to test\n",
    "from xgboost import XGBClassifier"
   ]
  },
  {
   "cell_type": "code",
   "execution_count": 135,
   "metadata": {},
   "outputs": [],
   "source": [
    "fe_seq=Pipeline([\n",
    "    \n",
    "    ### IMPUTE NUMERIC ########\n",
    "    ('imputer_num',\n",
    "    mdi.ArbitraryNumberImputer(arbitrary_number= -100,variables = contin)),\n",
    "    ##### IMPUTE CATEGORICAL #######\n",
    "    ('imputer_cat',\n",
    "    mdi.CategoricalVariableImputer(variables=categorical)),\n",
    "    ##### REMOVE OUTLIERS##############\n",
    "    ('outlier_rem',Winsorizer(distribution='skewed',\n",
    "                             tail='both',\n",
    "                             fold=2.0,\n",
    "                             variables=contin)),\n",
    "    ####### REMOVE RARE LABELS ###########\n",
    "    ('encoder_rare_label',\n",
    "     ce.RareLabelCategoricalEncoder(tol=0.02,\n",
    "                                   n_categories=5,\n",
    "                                   variables=categorical)),\n",
    "     ##########  ENCODE CATEGORICAL VARIABLES ##########\n",
    "     #('categorical_encoder',\n",
    "     #ce.OrdinalCategoricalEncoder(encoding_method='ordered',\n",
    "     #                            variables=categorical)),\n",
    "     ########### ENCODE CATEGORICAL VARIABLES ##############\n",
    "    ('categorical_encoder',\n",
    "     WoERatioCategoricalEncoder(encoding_method='woe', variables = categorical)\n",
    "    ),\n",
    "    #################  BIN NUMERICAL VARIABLES ##################\n",
    "    #('BinDTE',\n",
    "     # DecisionTreeDiscretiser(variables=contin,regression=False)),\n",
    "     \n",
    "     ###################### model is xgb\n",
    "      ('xgb', XGBClassifier(max_depth=4,learning_rate=0.01))   \n",
    "])"
   ]
  },
  {
   "cell_type": "code",
   "execution_count": 136,
   "metadata": {},
   "outputs": [
    {
     "data": {
      "text/plain": [
       "Pipeline(memory=None,\n",
       "         steps=[('imputer_num',\n",
       "                 ArbitraryNumberImputer(arbitrary_number=-100,\n",
       "                                        variables=['x0', 'x1', 'x2', 'x3', 'x4',\n",
       "                                                   'x5', 'x6', 'x7', 'x8', 'x9',\n",
       "                                                   'x10', 'x11', 'x12', 'x13',\n",
       "                                                   'x14', 'x15', 'x16', 'x17',\n",
       "                                                   'x18', 'x19', 'x20', 'x21',\n",
       "                                                   'x22', 'x23', 'x24', 'x25',\n",
       "                                                   'x26', 'x27', 'x28', 'x29', ...])),\n",
       "                ('imputer_cat',\n",
       "                 CategoricalVariableImputer(variables=['x34', 'x35', 'x45',\n",
       "                                                       'x6...\n",
       "                 XGBClassifier(base_score=0.5, booster='gbtree',\n",
       "                               colsample_bylevel=1, colsample_bytree=1, gamma=0,\n",
       "                               learning_rate=0.01, max_delta_step=0,\n",
       "                               max_depth=4, min_child_weight=1, missing=None,\n",
       "                               n_estimators=100, n_jobs=1, nthread=None,\n",
       "                               objective='binary:logistic', random_state=0,\n",
       "                               reg_alpha=0, reg_lambda=1, scale_pos_weight=1,\n",
       "                               seed=None, silent=True, subsample=1))],\n",
       "         verbose=False)"
      ]
     },
     "execution_count": 136,
     "metadata": {},
     "output_type": "execute_result"
    }
   ],
   "source": [
    "fe_seq.fit(X_train,y_train)"
   ]
  },
  {
   "cell_type": "code",
   "execution_count": 137,
   "metadata": {},
   "outputs": [
    {
     "data": {
      "text/plain": [
       "{'imputer_num': ArbitraryNumberImputer(arbitrary_number=-100,\n",
       "                        variables=['x0', 'x1', 'x2', 'x3', 'x4', 'x5', 'x6',\n",
       "                                   'x7', 'x8', 'x9', 'x10', 'x11', 'x12', 'x13',\n",
       "                                   'x14', 'x15', 'x16', 'x17', 'x18', 'x19',\n",
       "                                   'x20', 'x21', 'x22', 'x23', 'x24', 'x25',\n",
       "                                   'x26', 'x27', 'x28', 'x29', ...]),\n",
       " 'imputer_cat': CategoricalVariableImputer(variables=['x34', 'x35', 'x45', 'x68', 'x93']),\n",
       " 'outlier_rem': Winsorizer(distribution='skewed', fold=2.0, tail='both',\n",
       "            variables=['x0', 'x1', 'x2', 'x3', 'x4', 'x5', 'x6', 'x7', 'x8',\n",
       "                       'x9', 'x10', 'x11', 'x12', 'x13', 'x14', 'x15', 'x16',\n",
       "                       'x17', 'x18', 'x19', 'x20', 'x21', 'x22', 'x23', 'x24',\n",
       "                       'x25', 'x26', 'x27', 'x28', 'x29', ...]),\n",
       " 'encoder_rare_label': RareLabelCategoricalEncoder(n_categories=5, tol=0.02,\n",
       "                             variables=['x34', 'x35', 'x45', 'x68', 'x93']),\n",
       " 'categorical_encoder': WoERatioCategoricalEncoder(encoding_method='woe',\n",
       "                            variables=['x34', 'x35', 'x45', 'x68', 'x93']),\n",
       " 'lowVarFeatures': VarianceThreshold(threshold=0.03),\n",
       " 'xgb': XGBClassifier(base_score=0.5, booster='gbtree', colsample_bylevel=1,\n",
       "               colsample_bytree=1, gamma=0, learning_rate=0.01, max_delta_step=0,\n",
       "               max_depth=4, min_child_weight=1, missing=None, n_estimators=100,\n",
       "               n_jobs=1, nthread=None, objective='binary:logistic',\n",
       "               random_state=0, reg_alpha=0, reg_lambda=1, scale_pos_weight=1,\n",
       "               seed=None, silent=True, subsample=1)}"
      ]
     },
     "execution_count": 137,
     "metadata": {},
     "output_type": "execute_result"
    }
   ],
   "source": [
    "fe_seq.named_steps"
   ]
  },
  {
   "cell_type": "code",
   "execution_count": 138,
   "metadata": {},
   "outputs": [],
   "source": [
    " # GridSearchCV(my_pipe,param_grid,cv=3,iid=False,n_jobs=-1,scoring='roc_auc')\n",
    "### n_jobs=-1 indicates to use all avilable cpus"
   ]
  },
  {
   "cell_type": "code",
   "execution_count": 139,
   "metadata": {},
   "outputs": [],
   "source": [
    "#grid_search.fit(X_train, y_train)"
   ]
  },
  {
   "cell_type": "code",
   "execution_count": 140,
   "metadata": {},
   "outputs": [],
   "source": [
    "X_train_preds = fe_seq.predict_proba (X_train)[:,1]\n",
    "X_test_preds = fe_seq.predict_proba(X_test)[:,1]"
   ]
  },
  {
   "cell_type": "code",
   "execution_count": 141,
   "metadata": {},
   "outputs": [
    {
     "name": "stdout",
     "output_type": "stream",
     "text": [
      "Train AUC:0.8909579343688622\n",
      "Test AUC:0.8691725490196078\n"
     ]
    }
   ],
   "source": [
    "print(\"Train AUC:{}\".format( roc_auc_score(y_train,X_train_preds)))\n",
    "print(\"Test AUC:{}\".format( roc_auc_score(y_test,X_test_preds)))"
   ]
  },
  {
   "cell_type": "code",
   "execution_count": 132,
   "metadata": {},
   "outputs": [
    {
     "name": "stdout",
     "output_type": "stream",
     "text": [
      "<class 'pandas.core.frame.DataFrame'>\n"
     ]
    },
    {
     "data": {
      "text/html": [
       "<div>\n",
       "<style scoped>\n",
       "    .dataframe tbody tr th:only-of-type {\n",
       "        vertical-align: middle;\n",
       "    }\n",
       "\n",
       "    .dataframe tbody tr th {\n",
       "        vertical-align: top;\n",
       "    }\n",
       "\n",
       "    .dataframe thead th {\n",
       "        text-align: right;\n",
       "    }\n",
       "</style>\n",
       "<table border=\"1\" class=\"dataframe\">\n",
       "  <thead>\n",
       "    <tr style=\"text-align: right;\">\n",
       "      <th></th>\n",
       "      <th>x0</th>\n",
       "      <th>x1</th>\n",
       "      <th>x2</th>\n",
       "      <th>x3</th>\n",
       "      <th>x4</th>\n",
       "      <th>x5</th>\n",
       "      <th>x6</th>\n",
       "      <th>x7</th>\n",
       "      <th>x8</th>\n",
       "      <th>x9</th>\n",
       "      <th>...</th>\n",
       "      <th>x90</th>\n",
       "      <th>x91</th>\n",
       "      <th>x92</th>\n",
       "      <th>x93</th>\n",
       "      <th>x94</th>\n",
       "      <th>x95</th>\n",
       "      <th>x96</th>\n",
       "      <th>x97</th>\n",
       "      <th>x98</th>\n",
       "      <th>x99</th>\n",
       "    </tr>\n",
       "  </thead>\n",
       "  <tbody>\n",
       "    <tr>\n",
       "      <td>31452</td>\n",
       "      <td>169.641904</td>\n",
       "      <td>0.088613</td>\n",
       "      <td>-59.990029</td>\n",
       "      <td>-4.151638</td>\n",
       "      <td>1.843480</td>\n",
       "      <td>4.227388</td>\n",
       "      <td>-1.532988</td>\n",
       "      <td>-0.853600</td>\n",
       "      <td>-29.899352</td>\n",
       "      <td>-6.527814</td>\n",
       "      <td>...</td>\n",
       "      <td>80.894934</td>\n",
       "      <td>1.093422</td>\n",
       "      <td>-0.567839</td>\n",
       "      <td>asia</td>\n",
       "      <td>-3.891708</td>\n",
       "      <td>-17.854918</td>\n",
       "      <td>3.092545</td>\n",
       "      <td>-9.385536</td>\n",
       "      <td>0.419702</td>\n",
       "      <td>-1.228195</td>\n",
       "    </tr>\n",
       "    <tr>\n",
       "      <td>17130</td>\n",
       "      <td>-3.526688</td>\n",
       "      <td>-0.268400</td>\n",
       "      <td>37.806397</td>\n",
       "      <td>-17.839056</td>\n",
       "      <td>-25.652887</td>\n",
       "      <td>-12.467933</td>\n",
       "      <td>-0.251797</td>\n",
       "      <td>-6.662036</td>\n",
       "      <td>30.391301</td>\n",
       "      <td>5.768376</td>\n",
       "      <td>...</td>\n",
       "      <td>-44.267839</td>\n",
       "      <td>1.389046</td>\n",
       "      <td>-0.535372</td>\n",
       "      <td>america</td>\n",
       "      <td>-2.130634</td>\n",
       "      <td>20.987745</td>\n",
       "      <td>-8.050412</td>\n",
       "      <td>-18.010767</td>\n",
       "      <td>0.703264</td>\n",
       "      <td>3.347602</td>\n",
       "    </tr>\n",
       "    <tr>\n",
       "      <td>38787</td>\n",
       "      <td>161.642454</td>\n",
       "      <td>-0.444992</td>\n",
       "      <td>-7.470376</td>\n",
       "      <td>16.232460</td>\n",
       "      <td>-31.172866</td>\n",
       "      <td>-29.116958</td>\n",
       "      <td>0.820005</td>\n",
       "      <td>-13.101334</td>\n",
       "      <td>23.864927</td>\n",
       "      <td>9.193680</td>\n",
       "      <td>...</td>\n",
       "      <td>79.699387</td>\n",
       "      <td>0.423168</td>\n",
       "      <td>-1.628482</td>\n",
       "      <td>asia</td>\n",
       "      <td>-6.364589</td>\n",
       "      <td>21.129760</td>\n",
       "      <td>-20.371733</td>\n",
       "      <td>0.433292</td>\n",
       "      <td>-0.922341</td>\n",
       "      <td>-8.360633</td>\n",
       "    </tr>\n",
       "  </tbody>\n",
       "</table>\n",
       "<p>3 rows × 99 columns</p>\n",
       "</div>"
      ],
      "text/plain": [
       "               x0        x1         x2         x3         x4         x5  \\\n",
       "31452  169.641904  0.088613 -59.990029  -4.151638   1.843480   4.227388   \n",
       "17130   -3.526688 -0.268400  37.806397 -17.839056 -25.652887 -12.467933   \n",
       "38787  161.642454 -0.444992  -7.470376  16.232460 -31.172866 -29.116958   \n",
       "\n",
       "             x6         x7         x8        x9  ...        x90       x91  \\\n",
       "31452 -1.532988  -0.853600 -29.899352 -6.527814  ...  80.894934  1.093422   \n",
       "17130 -0.251797  -6.662036  30.391301  5.768376  ... -44.267839  1.389046   \n",
       "38787  0.820005 -13.101334  23.864927  9.193680  ...  79.699387  0.423168   \n",
       "\n",
       "            x92      x93       x94        x95        x96        x97       x98  \\\n",
       "31452 -0.567839     asia -3.891708 -17.854918   3.092545  -9.385536  0.419702   \n",
       "17130 -0.535372  america -2.130634  20.987745  -8.050412 -18.010767  0.703264   \n",
       "38787 -1.628482     asia -6.364589  21.129760 -20.371733   0.433292 -0.922341   \n",
       "\n",
       "            x99  \n",
       "31452 -1.228195  \n",
       "17130  3.347602  \n",
       "38787 -8.360633  \n",
       "\n",
       "[3 rows x 99 columns]"
      ]
     },
     "execution_count": 132,
     "metadata": {},
     "output_type": "execute_result"
    }
   ],
   "source": [
    "print (type(X_train))\n",
    "X_train.head(3)"
   ]
  },
  {
   "cell_type": "code",
   "execution_count": 133,
   "metadata": {},
   "outputs": [
    {
     "data": {
      "text/plain": [
       "['x0',\n",
       " 'x1',\n",
       " 'x2',\n",
       " 'x3',\n",
       " 'x4',\n",
       " 'x5',\n",
       " 'x6',\n",
       " 'x7',\n",
       " 'x8',\n",
       " 'x9',\n",
       " 'x10',\n",
       " 'x11',\n",
       " 'x12',\n",
       " 'x13',\n",
       " 'x14',\n",
       " 'x15',\n",
       " 'x16',\n",
       " 'x17',\n",
       " 'x18',\n",
       " 'x19',\n",
       " 'x20',\n",
       " 'x21',\n",
       " 'x22',\n",
       " 'x23',\n",
       " 'x24',\n",
       " 'x25',\n",
       " 'x26',\n",
       " 'x27',\n",
       " 'x28',\n",
       " 'x29',\n",
       " 'x30',\n",
       " 'x31',\n",
       " 'x32',\n",
       " 'x33',\n",
       " 'x34',\n",
       " 'x35',\n",
       " 'x36',\n",
       " 'x37',\n",
       " 'x38',\n",
       " 'x39',\n",
       " 'x40',\n",
       " 'x42',\n",
       " 'x43',\n",
       " 'x44',\n",
       " 'x45',\n",
       " 'x46',\n",
       " 'x47',\n",
       " 'x48',\n",
       " 'x49',\n",
       " 'x50',\n",
       " 'x51',\n",
       " 'x52',\n",
       " 'x53',\n",
       " 'x54',\n",
       " 'x55',\n",
       " 'x56',\n",
       " 'x57',\n",
       " 'x58',\n",
       " 'x59',\n",
       " 'x60',\n",
       " 'x61',\n",
       " 'x62',\n",
       " 'x63',\n",
       " 'x64',\n",
       " 'x65',\n",
       " 'x66',\n",
       " 'x67',\n",
       " 'x68',\n",
       " 'x69',\n",
       " 'x70',\n",
       " 'x71',\n",
       " 'x72',\n",
       " 'x73',\n",
       " 'x74',\n",
       " 'x75',\n",
       " 'x76',\n",
       " 'x77',\n",
       " 'x78',\n",
       " 'x79',\n",
       " 'x80',\n",
       " 'x81',\n",
       " 'x82',\n",
       " 'x83',\n",
       " 'x84',\n",
       " 'x85',\n",
       " 'x86',\n",
       " 'x87',\n",
       " 'x88',\n",
       " 'x89',\n",
       " 'x90',\n",
       " 'x91',\n",
       " 'x92',\n",
       " 'x93',\n",
       " 'x94',\n",
       " 'x95',\n",
       " 'x96',\n",
       " 'x97',\n",
       " 'x98',\n",
       " 'x99']"
      ]
     },
     "execution_count": 133,
     "metadata": {},
     "output_type": "execute_result"
    }
   ],
   "source": [
    "[ feat for feat in X_train.columns if X_train[feat].isnull().sum()  > 0]"
   ]
  },
  {
   "cell_type": "code",
   "execution_count": null,
   "metadata": {},
   "outputs": [],
   "source": []
  }
 ],
 "metadata": {
  "kernelspec": {
   "display_name": "Python 3",
   "language": "python",
   "name": "python3"
  },
  "language_info": {
   "codemirror_mode": {
    "name": "ipython",
    "version": 3
   },
   "file_extension": ".py",
   "mimetype": "text/x-python",
   "name": "python",
   "nbconvert_exporter": "python",
   "pygments_lexer": "ipython3",
   "version": "3.6.8"
  }
 },
 "nbformat": 4,
 "nbformat_minor": 2
}
