{
 "cells": [
  {
   "cell_type": "code",
   "execution_count": 1,
   "metadata": {},
   "outputs": [],
   "source": [
    "from math import sqrt\n",
    "import pandas as pd\n",
    "import numpy as np\n",
    "import matplotlib.pyplot as plt\n",
    "\n",
    "# for the model\n",
    "from sklearn.model_selection import train_test_split,GridSearchCV\n",
    "from sklearn.linear_model import Lasso\n",
    "from sklearn.pipeline import Pipeline\n",
    "from sklearn.metrics import mean_squared_error, r2_score\n",
    "from sklearn.metrics import mean_absolute_error\n",
    "\n",
    "# for feature engineering\n",
    "from sklearn.preprocessing import StandardScaler\n",
    "from feature_engine import missing_data_imputers as mdi\n",
    "from feature_engine import discretisers as dsc\n",
    "from feature_engine import categorical_encoders as ce\n",
    "from feature_engine.outlier_removers import Winsorizer\n",
    "from feature_engine.categorical_encoders import MeanCategoricalEncoder\n",
    "from feature_engine import variable_transformers as vt\n",
    "\n",
    "######## Feature selection packages \n",
    "\n",
    "from sklearn.feature_selection import VarianceThreshold\n",
    "from sklearn.feature_selection import SelectFromModel\n",
    "from sklearn.ensemble import RandomForestClassifier, RandomForestRegressor\n",
    "\n",
    "### models implemented\n",
    "from catboost import CatBoostRegressor\n",
    "\n",
    "pd.pandas.set_option('display.max_columns', None)"
   ]
  },
  {
   "cell_type": "code",
   "execution_count": 2,
   "metadata": {},
   "outputs": [
    {
     "name": "stdout",
     "output_type": "stream",
     "text": [
      "(1460, 9)\n"
     ]
    },
    {
     "data": {
      "text/plain": [
       "array([dtype('int64'), dtype('O')], dtype=object)"
      ]
     },
     "execution_count": 2,
     "metadata": {},
     "output_type": "execute_result"
    }
   ],
   "source": [
    "# load dataset\n",
    "data = pd.read_csv('houseprice.csv')\n",
    "### drop the Id \n",
    "data = data[['OverallQual', 'ExterQual', 'BsmtFinSF1', 'TotalBsmtSF', '1stFlrSF',\n",
    "       '2ndFlrSF', 'GrLivArea', 'GarageCars','SalePrice']]\n",
    "print(data.shape)\n",
    "data.dtypes.unique()"
   ]
  },
  {
   "cell_type": "code",
   "execution_count": 3,
   "metadata": {},
   "outputs": [
    {
     "name": "stdout",
     "output_type": "stream",
     "text": [
      "There are 2 discrete variables\n",
      "There are 5 numerical variables\n",
      "There are 1 categorical variables\n"
     ]
    }
   ],
   "source": [
    "discrete= [ var for var in data.columns   if data[var].dtype != 'O' and var!='SalePrice' and data[var].nunique() < 15 ]\n",
    "numerical= [ var for var in data.columns     if data[var].dtype != 'O' and var!='SalePrice' and var not in discrete]\n",
    "categorical = [var for var in data.columns if data[var].dtype =='O']\n",
    "\n",
    "print('There are {} discrete variables'.format(len(discrete)))\n",
    "print('There are {} numerical variables'.format(len(numerical)))\n",
    "print('There are {} categorical variables'.format(len(categorical)))"
   ]
  },
  {
   "cell_type": "code",
   "execution_count": 4,
   "metadata": {},
   "outputs": [
    {
     "data": {
      "text/plain": [
       "((1314, 8), (146, 8))"
      ]
     },
     "execution_count": 4,
     "metadata": {},
     "output_type": "execute_result"
    }
   ],
   "source": [
    "# Let's separate into train and test set\n",
    "\n",
    "X_train, X_test, y_train, y_test = train_test_split(data.drop(['SalePrice'], axis=1),\n",
    "                                                    data['SalePrice'],\n",
    "                                                    test_size=0.1,\n",
    "                                                    random_state=0)\n",
    "\n",
    "X_train.shape, X_test.shape"
   ]
  },
  {
   "cell_type": "code",
   "execution_count": 5,
   "metadata": {},
   "outputs": [],
   "source": [
    "# I will treat discrete variables as if they were categorical\n",
    "# to treat discrete as categorical using Feature-engine\n",
    "# we need to re-cast them as object\n",
    "\n",
    "X_train[discrete] = X_train[discrete].astype('O')\n",
    "X_test[discrete] = X_test[discrete].astype('O')"
   ]
  },
  {
   "cell_type": "code",
   "execution_count": 6,
   "metadata": {},
   "outputs": [],
   "source": [
    "house_pipe = Pipeline([\n",
    "\n",
    "    # missing data imputation \n",
    "    ('imputer_num', mdi.MeanMedianImputer(imputation_method='median',\n",
    "                                        variables= numerical)),\n",
    "    \n",
    "    ('imputer_cat', \n",
    "     mdi.CategoricalVariableImputer(variables=categorical)),\n",
    "    \n",
    "    ##### REMOVE OUTLIERS##############\n",
    "    ('outlier_rem',\n",
    "     Winsorizer(distribution='skewed',\n",
    "                             tail='both',\n",
    "                             fold=2.0,\n",
    "                             variables=numerical)),\n",
    "    ####################################\n",
    "    # categorical encoding \n",
    "    ('rare_label_enc', \n",
    "         ce.RareLabelCategoricalEncoder(\n",
    "        tol=0.05, n_categories=6, variables=categorical+discrete)),\n",
    "    ('categorical_encoder',\n",
    "     MeanCategoricalEncoder( variables = categorical + discrete)\n",
    "    ),\n",
    "    # regression\n",
    "    ('regression',\n",
    "     CatBoostRegressor(max_depth= 6 ,learning_rate=0.01))\n",
    "]) "
   ]
  },
  {
   "cell_type": "code",
   "execution_count": 7,
   "metadata": {},
   "outputs": [],
   "source": [
    "param_grid = {\n",
    "    'outlier_rem__fold':[1.8,2.0,2.3],\n",
    "     'rare_label_enc__tol':[0.01,0.05,0.08],\n",
    "      'rare_label_enc__n_categories':[4,10,13],\n",
    "      'regression__max_depth':[4,5,6]\n",
    "    \n",
    "}\n",
    "\n",
    "grid_search = GridSearchCV(house_pipe,param_grid,\n",
    "                          cv=3,iid=False,n_jobs=-1)"
   ]
  },
  {
   "cell_type": "code",
   "execution_count": null,
   "metadata": {},
   "outputs": [],
   "source": [
    "# let's fit the pipeline\n",
    "grid_search.fit(X_train, y_train)\n",
    "\n",
    "grid_search.score(X_train,y_train)\n",
    "# let's get the predictions\n",
    "#X_train_preds = house_pipe.predict(X_train)\n",
    "#X_test_preds = house_pipe.predict(X_test)"
   ]
  },
  {
   "cell_type": "code",
   "execution_count": null,
   "metadata": {},
   "outputs": [],
   "source": [
    "grid_search.best_params_"
   ]
  },
  {
   "cell_type": "code",
   "execution_count": 19,
   "metadata": {},
   "outputs": [
    {
     "name": "stdout",
     "output_type": "stream",
     "text": [
      "train mae: 16078.433165153752\n",
      "train r2: 0.9225663431292124\n",
      "\n",
      "test mae: 18430.25199614427\n",
      "test r2: 0.8500619834070946\n"
     ]
    }
   ],
   "source": [
    "# check model performance:           \n",
    "print('train mae: {}'.format(mean_absolute_error(y_train, X_train_preds) , 2) )\n",
    "print('train r2: {}'.format(r2_score(y_train, X_train_preds),2))\n",
    "print()\n",
    "print('test mae: {}'.format(mean_absolute_error(y_test, X_test_preds),2) )\n",
    "print('test r2: {}'.format(r2_score(y_test, X_test_preds),2))"
   ]
  },
  {
   "cell_type": "code",
   "execution_count": 20,
   "metadata": {},
   "outputs": [
    {
     "data": {
      "text/plain": [
       "Text(0, 0.5, 'Predicted Price')"
      ]
     },
     "execution_count": 20,
     "metadata": {},
     "output_type": "execute_result"
    },
    {
     "data": {
      "image/png": "[encoded data removed]",
      "text/plain": [
       "<Figure size 432x288 with 1 Axes>"
      ]
     },
     "metadata": {
      "needs_background": "light"
     },
     "output_type": "display_data"
    }
   ],
   "source": [
    "plt.scatter(y_test,X_test_preds)\n",
    "plt.xlabel('True Price')\n",
    "plt.ylabel('Predicted Price')"
   ]
  },
  {
   "cell_type": "code",
   "execution_count": null,
   "metadata": {},
   "outputs": [],
   "source": []
  }
 ],
 "metadata": {
  "kernelspec": {
   "display_name": "Python 3",
   "language": "python",
   "name": "python3"
  },
  "language_info": {
   "codemirror_mode": {
    "name": "ipython",
    "version": 3
   },
   "file_extension": ".py",
   "mimetype": "text/x-python",
   "name": "python",
   "nbconvert_exporter": "python",
   "pygments_lexer": "ipython3",
   "version": "3.6.8"
  }
 },
 "nbformat": 4,
 "nbformat_minor": 2
}
