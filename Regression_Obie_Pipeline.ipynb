{
 "cells": [
  {
   "cell_type": "markdown",
   "metadata": {},
   "source": [
    "## House Prices dataset"
   ]
  },
  {
   "cell_type": "code",
   "execution_count": 1,
   "metadata": {},
   "outputs": [],
   "source": [
    "from math import sqrt\n",
    "import pandas as pd\n",
    "import numpy as np\n",
    "import matplotlib.pyplot as plt\n",
    "\n",
    "# for the model\n",
    "from sklearn.model_selection import train_test_split\n",
    "from sklearn.linear_model import Lasso\n",
    "from sklearn.pipeline import Pipeline\n",
    "from sklearn.metrics import mean_squared_error, r2_score\n",
    "from sklearn.metrics import mean_absolute_error\n",
    "\n",
    "# for feature engineering\n",
    "from sklearn.preprocessing import StandardScaler\n",
    "from feature_engine import missing_data_imputers as mdi\n",
    "from feature_engine import discretisers as dsc\n",
    "from feature_engine import categorical_encoders as ce\n",
    "from feature_engine.outlier_removers import Winsorizer\n",
    "from feature_engine.categorical_encoders import MeanCategoricalEncoder\n",
    "from feature_engine import variable_transformers as vt\n",
    "\n",
    "######## Feature selection packages \n",
    "\n",
    "from sklearn.feature_selection import VarianceThreshold\n",
    "from sklearn.feature_selection import SelectFromModel\n",
    "from sklearn.ensemble import RandomForestClassifier, RandomForestRegressor\n",
    "\n",
    "### models implemented\n",
    "from catboost import CatBoostRegressor\n",
    "\n",
    "pd.pandas.set_option('display.max_columns', None)"
   ]
  },
  {
   "cell_type": "markdown",
   "metadata": {},
   "source": [
    "### Load Datasets"
   ]
  },
  {
   "cell_type": "code",
   "execution_count": 2,
   "metadata": {},
   "outputs": [
    {
     "name": "stdout",
     "output_type": "stream",
     "text": [
      "(1460, 80)\n"
     ]
    },
    {
     "data": {
      "text/plain": [
       "array([dtype('int64'), dtype('O'), dtype('float64')], dtype=object)"
      ]
     },
     "execution_count": 2,
     "metadata": {},
     "output_type": "execute_result"
    }
   ],
   "source": [
    "# load dataset\n",
    "data = pd.read_csv('houseprice.csv')\n",
    "### drop the Id \n",
    "data.drop('Id', axis=1, inplace=True)\n",
    "print(data.shape)\n",
    "data.dtypes.unique()"
   ]
  },
  {
   "cell_type": "markdown",
   "metadata": {},
   "source": [
    "There are a mixture of categorical and numerical variables. Numerical are those of type **int** and **float** and categorical those of type **object**."
   ]
  },
  {
   "cell_type": "markdown",
   "metadata": {},
   "source": [
    "#### Find temporal variables\n",
    "\n",
    "There are a few variables in the dataset that are temporal. They indicate the year in which something happened. We shouldn't use these variables straightaway for model building. We should instead transform them to capture some sort of time information. Let's inspect these temporal variables:\n"
   ]
  },
  {
   "cell_type": "code",
   "execution_count": 3,
   "metadata": {},
   "outputs": [
    {
     "name": "stdout",
     "output_type": "stream",
     "text": [
      "['YearBuilt', 'YearRemodAdd', 'GarageYrBlt', 'YrSold']\n",
      "   YearBuilt  YearRemodAdd  GarageYrBlt\n",
      "0          5             5          5.0\n",
      "1         31            31         31.0\n",
      "2          7             6          7.0\n"
     ]
    },
    {
     "data": {
      "text/plain": [
       "YearBuilt         int64\n",
       "YearRemodAdd      int64\n",
       "GarageYrBlt     float64\n",
       "dtype: object"
      ]
     },
     "execution_count": 3,
     "metadata": {},
     "output_type": "execute_result"
    }
   ],
   "source": [
    "# list of variables that contain year information\n",
    "year_vars = [var for var in data.columns if 'Yr' in var or 'Year' in var]\n",
    "\n",
    "print(year_vars)\n",
    "\n",
    "def elapsed_years(df, var):\n",
    "    # capture difference between year variable and\n",
    "    # year the house was sold\n",
    "    df[var] = df['YrSold'] - df[var]\n",
    "    return df\n",
    "\n",
    "for var in data[year_vars].columns:\n",
    "    elapsed_years(data,var)\n",
    "\n",
    "\n",
    "\n",
    "data.drop('YrSold',axis=1,inplace=True)\n",
    "year_vars.remove('YrSold')\n",
    "\n",
    "print(data[year_vars].head(3))\n",
    "data[year_vars].dtypes"
   ]
  },
  {
   "cell_type": "markdown",
   "metadata": {},
   "source": [
    "# get the categorical features"
   ]
  },
  {
   "cell_type": "code",
   "execution_count": 4,
   "metadata": {},
   "outputs": [
    {
     "name": "stdout",
     "output_type": "stream",
     "text": [
      "There are 13 discrete variables\n",
      "There are 22 numerical variables\n",
      "There are 43 categorical variables\n"
     ]
    }
   ],
   "source": [
    "# find categorical variables\n",
    "discrete= [ var for var in data.columns   if data[var].dtype != 'O' and var!='SalePrice' and data[var].nunique() < 15 ]\n",
    "numerical= [ var for var in data.columns     if data[var].dtype != 'O' and var!='SalePrice' and var not in discrete]\n",
    "categorical = [var for var in data.columns if data[var].dtype =='O']\n",
    "\n",
    "print('There are {} discrete variables'.format(len(discrete)))\n",
    "print('There are {} numerical variables'.format(len(numerical)))\n",
    "print('There are {} categorical variables'.format(len(categorical)))"
   ]
  },
  {
   "cell_type": "code",
   "execution_count": 5,
   "metadata": {},
   "outputs": [
    {
     "name": "stdout",
     "output_type": "stream",
     "text": [
      "OverallQual     [ 7  6  8  5  9  4 10  3  1  2]\n",
      "OverallCond     [5 8 6 7 4 2 3 9 1]\n",
      "BsmtFullBath     [1 0 2 3]\n",
      "BsmtHalfBath     [0 1 2]\n",
      "FullBath     [2 1 3 0]\n",
      "HalfBath     [1 0 2]\n",
      "BedroomAbvGr     [3 4 1 2 0 5 6 8]\n",
      "KitchenAbvGr     [1 2 3 0]\n",
      "TotRmsAbvGrd     [ 8  6  7  9  5 11  4 10 12  3  2 14]\n",
      "Fireplaces     [0 1 2 3]\n",
      "GarageCars     [2 3 1 0 4]\n",
      "PoolArea     [  0 512 648 576 555 480 519 738]\n",
      "MoSold     [ 2  5  9 12 10  8 11  4  1  7  3  6]\n"
     ]
    }
   ],
   "source": [
    "# let's visualise the values of the discrete variables\n",
    "for ft in data[discrete]:\n",
    "    print(ft, \"   \" , data[ft].unique())"
   ]
  },
  {
   "cell_type": "code",
   "execution_count": 6,
   "metadata": {},
   "outputs": [
    {
     "name": "stdout",
     "output_type": "stream",
     "text": [
      "MSZoning     ['RL' 'RM' 'C (all)' 'FV' 'RH']\n",
      "Street     ['Pave' 'Grvl']\n",
      "Alley     [nan 'Grvl' 'Pave']\n",
      "LotShape     ['Reg' 'IR1' 'IR2' 'IR3']\n",
      "LandContour     ['Lvl' 'Bnk' 'Low' 'HLS']\n",
      "Utilities     ['AllPub' 'NoSeWa']\n",
      "LotConfig     ['Inside' 'FR2' 'Corner' 'CulDSac' 'FR3']\n",
      "LandSlope     ['Gtl' 'Mod' 'Sev']\n",
      "Neighborhood     ['CollgCr' 'Veenker' 'Crawfor' 'NoRidge' 'Mitchel' 'Somerst' 'NWAmes'\n",
      " 'OldTown' 'BrkSide' 'Sawyer' 'NridgHt' 'NAmes' 'SawyerW' 'IDOTRR'\n",
      " 'MeadowV' 'Edwards' 'Timber' 'Gilbert' 'StoneBr' 'ClearCr' 'NPkVill'\n",
      " 'Blmngtn' 'BrDale' 'SWISU' 'Blueste']\n",
      "Condition1     ['Norm' 'Feedr' 'PosN' 'Artery' 'RRAe' 'RRNn' 'RRAn' 'PosA' 'RRNe']\n",
      "Condition2     ['Norm' 'Artery' 'RRNn' 'Feedr' 'PosN' 'PosA' 'RRAn' 'RRAe']\n",
      "BldgType     ['1Fam' '2fmCon' 'Duplex' 'TwnhsE' 'Twnhs']\n",
      "HouseStyle     ['2Story' '1Story' '1.5Fin' '1.5Unf' 'SFoyer' 'SLvl' '2.5Unf' '2.5Fin']\n",
      "RoofStyle     ['Gable' 'Hip' 'Gambrel' 'Mansard' 'Flat' 'Shed']\n",
      "RoofMatl     ['CompShg' 'WdShngl' 'Metal' 'WdShake' 'Membran' 'Tar&Grv' 'Roll'\n",
      " 'ClyTile']\n",
      "Exterior1st     ['VinylSd' 'MetalSd' 'Wd Sdng' 'HdBoard' 'BrkFace' 'WdShing' 'CemntBd'\n",
      " 'Plywood' 'AsbShng' 'Stucco' 'BrkComm' 'AsphShn' 'Stone' 'ImStucc'\n",
      " 'CBlock']\n",
      "Exterior2nd     ['VinylSd' 'MetalSd' 'Wd Shng' 'HdBoard' 'Plywood' 'Wd Sdng' 'CmentBd'\n",
      " 'BrkFace' 'Stucco' 'AsbShng' 'Brk Cmn' 'ImStucc' 'AsphShn' 'Stone'\n",
      " 'Other' 'CBlock']\n",
      "MasVnrType     ['BrkFace' 'None' 'Stone' 'BrkCmn' nan]\n",
      "ExterQual     ['Gd' 'TA' 'Ex' 'Fa']\n",
      "ExterCond     ['TA' 'Gd' 'Fa' 'Po' 'Ex']\n",
      "Foundation     ['PConc' 'CBlock' 'BrkTil' 'Wood' 'Slab' 'Stone']\n",
      "BsmtQual     ['Gd' 'TA' 'Ex' nan 'Fa']\n",
      "BsmtCond     ['TA' 'Gd' nan 'Fa' 'Po']\n",
      "BsmtExposure     ['No' 'Gd' 'Mn' 'Av' nan]\n",
      "BsmtFinType1     ['GLQ' 'ALQ' 'Unf' 'Rec' 'BLQ' nan 'LwQ']\n",
      "BsmtFinType2     ['Unf' 'BLQ' nan 'ALQ' 'Rec' 'LwQ' 'GLQ']\n",
      "Heating     ['GasA' 'GasW' 'Grav' 'Wall' 'OthW' 'Floor']\n",
      "HeatingQC     ['Ex' 'Gd' 'TA' 'Fa' 'Po']\n",
      "CentralAir     ['Y' 'N']\n",
      "Electrical     ['SBrkr' 'FuseF' 'FuseA' 'FuseP' 'Mix' nan]\n",
      "KitchenQual     ['Gd' 'TA' 'Ex' 'Fa']\n",
      "Functional     ['Typ' 'Min1' 'Maj1' 'Min2' 'Mod' 'Maj2' 'Sev']\n",
      "FireplaceQu     [nan 'TA' 'Gd' 'Fa' 'Ex' 'Po']\n",
      "GarageType     ['Attchd' 'Detchd' 'BuiltIn' 'CarPort' nan 'Basment' '2Types']\n",
      "GarageFinish     ['RFn' 'Unf' 'Fin' nan]\n",
      "GarageQual     ['TA' 'Fa' 'Gd' nan 'Ex' 'Po']\n",
      "GarageCond     ['TA' 'Fa' nan 'Gd' 'Po' 'Ex']\n",
      "PavedDrive     ['Y' 'N' 'P']\n",
      "PoolQC     [nan 'Ex' 'Fa' 'Gd']\n",
      "Fence     [nan 'MnPrv' 'GdWo' 'GdPrv' 'MnWw']\n",
      "MiscFeature     [nan 'Shed' 'Gar2' 'Othr' 'TenC']\n",
      "SaleType     ['WD' 'New' 'COD' 'ConLD' 'ConLI' 'CWD' 'ConLw' 'Con' 'Oth']\n",
      "SaleCondition     ['Normal' 'Abnorml' 'Partial' 'AdjLand' 'Alloca' 'Family']\n"
     ]
    }
   ],
   "source": [
    "for ft in data[categorical]:\n",
    "    print(ft, \"   \" , data[ft].unique())"
   ]
  },
  {
   "cell_type": "code",
   "execution_count": 7,
   "metadata": {},
   "outputs": [
    {
     "data": {
      "text/plain": [
       "<matplotlib.axes._subplots.AxesSubplot at 0x2545f9a11d0>"
      ]
     },
     "execution_count": 7,
     "metadata": {},
     "output_type": "execute_result"
    },
    {
     "data": {
      "image/png": "[encoded data removed]",
      "text/plain": [
       "<Figure size 720x576 with 1 Axes>"
      ]
     },
     "metadata": {
      "needs_background": "light"
     },
     "output_type": "display_data"
    }
   ],
   "source": [
    "data[discrete+categorical].nunique().plot.bar(figsize=(10,8))"
   ]
  },
  {
   "cell_type": "markdown",
   "metadata": {},
   "source": [
    "#### Continuous variables"
   ]
  },
  {
   "cell_type": "markdown",
   "metadata": {},
   "source": [
    "### Separate train and test set"
   ]
  },
  {
   "cell_type": "code",
   "execution_count": 8,
   "metadata": {},
   "outputs": [
    {
     "data": {
      "text/plain": [
       "((1314, 78), (146, 78))"
      ]
     },
     "execution_count": 8,
     "metadata": {},
     "output_type": "execute_result"
    }
   ],
   "source": [
    "# Let's separate into train and test set\n",
    "\n",
    "X_train, X_test, y_train, y_test = train_test_split(data.drop(['SalePrice'], axis=1),\n",
    "                                                    data['SalePrice'],\n",
    "                                                    test_size=0.1,\n",
    "                                                    random_state=0)\n",
    "\n",
    "X_train.shape, X_test.shape"
   ]
  },
  {
   "cell_type": "markdown",
   "metadata": {},
   "source": [
    "**Now we will move on and engineer the features of this dataset. The most important part for this course.**"
   ]
  },
  {
   "cell_type": "markdown",
   "metadata": {},
   "source": [
    "## Putting it all together"
   ]
  },
  {
   "cell_type": "code",
   "execution_count": 9,
   "metadata": {},
   "outputs": [],
   "source": [
    "# I will treat discrete variables as if they were categorical\n",
    "# to treat discrete as categorical using Feature-engine\n",
    "# we need to re-cast them as object\n",
    "\n",
    "X_train[discrete] = X_train[discrete].astype('O')\n",
    "X_test[discrete] = X_test[discrete].astype('O')"
   ]
  },
  {
   "cell_type": "code",
   "execution_count": 10,
   "metadata": {},
   "outputs": [],
   "source": [
    "house_pipe = Pipeline([\n",
    "\n",
    "    # missing data imputation \n",
    "    ('imputer_num', mdi.MeanMedianImputer(imputation_method='median',\n",
    "                                        variables= numerical)),\n",
    "    \n",
    "    ('imputer_cat', \n",
    "     mdi.CategoricalVariableImputer(variables=categorical)),\n",
    "    \n",
    "    ##### REMOVE OUTLIERS##############\n",
    "    ('outlier_rem',\n",
    "     Winsorizer(distribution='skewed',\n",
    "                             tail='both',\n",
    "                             fold=2.0,\n",
    "                             variables=numerical)),\n",
    "    ####################################\n",
    "    # categorical encoding \n",
    "    ('rare_label_enc', \n",
    "         ce.RareLabelCategoricalEncoder(\n",
    "        tol=0.05, n_categories=6, variables=categorical+discrete)),\n",
    "    ('categorical_encoder',\n",
    "     MeanCategoricalEncoder( variables = categorical + discrete)\n",
    "    ),\n",
    "    # regression\n",
    "    #('regression',\n",
    "    # CatBoostRegressor(max_depth= 6 ,learning_rate=0.01))\n",
    "]) "
   ]
  },
  {
   "cell_type": "code",
   "execution_count": 11,
   "metadata": {},
   "outputs": [
    {
     "data": {
      "text/plain": [
       "Pipeline(memory=None,\n",
       "         steps=[('imputer_num',\n",
       "                 MeanMedianImputer(imputation_method='median',\n",
       "                                   variables=['MSSubClass', 'LotFrontage',\n",
       "                                              'LotArea', 'YearBuilt',\n",
       "                                              'YearRemodAdd', 'MasVnrArea',\n",
       "                                              'BsmtFinSF1', 'BsmtFinSF2',\n",
       "                                              'BsmtUnfSF', 'TotalBsmtSF',\n",
       "                                              '1stFlrSF', '2ndFlrSF',\n",
       "                                              'LowQualFinSF', 'GrLivArea',\n",
       "                                              'GarageYrBlt', 'GarageArea',\n",
       "                                              'WoodDeckSF', 'OpenPorchSF',\n",
       "                                              'EnclosedPorch', '3S...\n",
       "                                                   'LandContour', 'Utilities',\n",
       "                                                   'LotConfig', 'LandSlope',\n",
       "                                                   'Neighborhood', 'Condition1',\n",
       "                                                   'Condition2', 'BldgType',\n",
       "                                                   'HouseStyle', 'RoofStyle',\n",
       "                                                   'RoofMatl', 'Exterior1st',\n",
       "                                                   'Exterior2nd', 'MasVnrType',\n",
       "                                                   'ExterQual', 'ExterCond',\n",
       "                                                   'Foundation', 'BsmtQual',\n",
       "                                                   'BsmtCond', 'BsmtExposure',\n",
       "                                                   'BsmtFinType1',\n",
       "                                                   'BsmtFinType2', 'Heating',\n",
       "                                                   'HeatingQC', 'CentralAir',\n",
       "                                                   'Electrical', ...]))],\n",
       "         verbose=False)"
      ]
     },
     "execution_count": 11,
     "metadata": {},
     "output_type": "execute_result"
    }
   ],
   "source": [
    "# let's fit the pipeline\n",
    "house_pipe.fit(X_train, y_train)\n",
    "\n",
    "# let's get the predictions\n",
    "#X_train_preds = house_pipe.predict(X_train)\n",
    "#X_test_preds = house_pipe.predict(X_test)"
   ]
  },
  {
   "cell_type": "markdown",
   "metadata": {},
   "source": [
    "# FEATURE SELECTION"
   ]
  },
  {
   "cell_type": "code",
   "execution_count": 12,
   "metadata": {},
   "outputs": [
    {
     "name": "stdout",
     "output_type": "stream",
     "text": [
      "(1314, 78)\n",
      "(146, 78)\n"
     ]
    },
    {
     "data": {
      "text/plain": [
       "pandas.core.frame.DataFrame"
      ]
     },
     "execution_count": 12,
     "metadata": {},
     "output_type": "execute_result"
    }
   ],
   "source": [
    "X_train_fe = house_pipe.transform(X_train)\n",
    "X_test_fe = house_pipe.transform(X_test)\n",
    "\n",
    "print (X_train_fe.shape)\n",
    "print(X_test_fe.shape)\n",
    "\n",
    "type(X_train_fe)"
   ]
  },
  {
   "cell_type": "code",
   "execution_count": 13,
   "metadata": {},
   "outputs": [
    {
     "name": "stdout",
     "output_type": "stream",
     "text": [
      "We are keeping total of 72 features\n"
     ]
    }
   ],
   "source": [
    "sel = VarianceThreshold(threshold=0.05)  # 0.1 indicates 99% of observations approximately\n",
    " \n",
    "sel.fit(X_train_fe)  # fit finds the features with low variance\n",
    " \n",
    "print(\"We are keeping total of {} features\".format(sum(sel.get_support())) )\n",
    "\n",
    "features_to_keep = X_train_fe.columns[sel.get_support()]  ### put the low variance features in a list\n",
    "\n",
    "\n",
    "X_train_fe = sel.transform(X_train_fe)\n",
    "X_test_fe = sel.transform(X_test_fe)\n",
    "\n",
    "X_train_fe= pd.DataFrame(X_train_fe)\n",
    "X_train_fe.columns = features_to_keep\n",
    " \n",
    "X_test_fe= pd.DataFrame(X_test_fe)\n",
    "X_test_fe.columns = features_to_keep"
   ]
  },
  {
   "cell_type": "code",
   "execution_count": 14,
   "metadata": {},
   "outputs": [
    {
     "name": "stdout",
     "output_type": "stream",
     "text": [
      "correlated features:  3\n"
     ]
    },
    {
     "data": {
      "text/plain": [
       "((1314, 69), (146, 69))"
      ]
     },
     "execution_count": 14,
     "metadata": {},
     "output_type": "execute_result"
    }
   ],
   "source": [
    "#### remove correlated features \n",
    "# find and remove correlated features\n",
    "def correlation(dataset, threshold):\n",
    "    col_corr = set()  # Set of all the names of correlated columns\n",
    "    corr_matrix = dataset.corr()\n",
    "    for i in range(len(corr_matrix.columns)):\n",
    "        for j in range(i):\n",
    "            if abs(corr_matrix.iloc[i, j]) > threshold: # we are interested in absolute coeff value\n",
    "                colname = corr_matrix.columns[i]  # getting the name of column\n",
    "                col_corr.add(colname)\n",
    "    return col_corr\n",
    "\n",
    "corr_features = correlation(X_train_fe, 0.9)\n",
    "print('correlated features: ', len(set(corr_features)) )\n",
    "\n",
    "X_train_fe.drop(labels=corr_features, axis=1, inplace=True)\n",
    "X_test_fe.drop(labels=corr_features, axis=1, inplace=True)\n",
    "\n",
    "X_train_fe = pd.DataFrame(X_train_fe)\n",
    "X_test_fe = pd.DataFrame(X_test_fe)\n",
    "\n",
    "X_train_fe.shape, X_test_fe.shape"
   ]
  },
  {
   "cell_type": "code",
   "execution_count": null,
   "metadata": {},
   "outputs": [],
   "source": [
    "######## Feature selection with random forest \n",
    "sel_ = SelectFromModel(RandomForestRegressor(max_depth = 4 , n_estimators=300 , random_state=0))\n",
    "sel_.fit(X_train_fe, y_train)"
   ]
  },
  {
   "cell_type": "code",
   "execution_count": 18,
   "metadata": {},
   "outputs": [
    {
     "name": "stdout",
     "output_type": "stream",
     "text": [
      "train mae: 11204.553506067026\n",
      "train r2: 0.963311285713026\n",
      "\n",
      "test mae: 16583.527594705927\n",
      "test r2: 0.8681195327486687\n"
     ]
    }
   ],
   "source": [
    "# check model performance:           \n",
    "print('train mae: {}'.format(mean_absolute_error(y_train, X_train_preds) , 2) )\n",
    "print('train r2: {}'.format(r2_score(y_train, X_train_preds),2))\n",
    "print()\n",
    "print('test mae: {}'.format(mean_absolute_error(y_test, X_test_preds),2) )\n",
    "print('test r2: {}'.format(r2_score(y_test, X_test_preds),2))"
   ]
  },
  {
   "cell_type": "code",
   "execution_count": 15,
   "metadata": {},
   "outputs": [
    {
     "data": {
      "text/plain": [
       "Text(0, 0.5, 'Predicted Price')"
      ]
     },
     "execution_count": 15,
     "metadata": {},
     "output_type": "execute_result"
    },
    {
     "data": {
      "image/png": "[encoded data removed]",
      "text/plain": [
       "<Figure size 432x288 with 1 Axes>"
      ]
     },
     "metadata": {
      "needs_background": "light"
     },
     "output_type": "display_data"
    }
   ],
   "source": [
    "# plot predictions vs real value\n",
    "\n",
    "plt.scatter(y_test,X_test_preds)\n",
    "plt.xlabel('True Price')\n",
    "plt.ylabel('Predicted Price')"
   ]
  },
  {
   "cell_type": "code",
   "execution_count": null,
   "metadata": {},
   "outputs": [],
   "source": []
  }
 ],
 "metadata": {
  "kernelspec": {
   "display_name": "Python 3",
   "language": "python",
   "name": "python3"
  },
  "language_info": {
   "codemirror_mode": {
    "name": "ipython",
    "version": 3
   },
   "file_extension": ".py",
   "mimetype": "text/x-python",
   "name": "python",
   "nbconvert_exporter": "python",
   "pygments_lexer": "ipython3",
   "version": "3.6.8"
  },
  "toc": {
   "nav_menu": {},
   "number_sections": true,
   "sideBar": true,
   "skip_h1_title": false,
   "toc_cell": false,
   "toc_position": {
    "height": "583px",
    "left": "0px",
    "right": "1324px",
    "top": "107px",
    "width": "212px"
   },
   "toc_section_display": "block",
   "toc_window_display": true
  }
 },
 "nbformat": 4,
 "nbformat_minor": 2
}
